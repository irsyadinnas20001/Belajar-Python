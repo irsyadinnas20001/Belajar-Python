{
 "cells": [
  {
   "cell_type": "code",
   "execution_count": 1,
   "metadata": {},
   "outputs": [
    {
     "name": "stdout",
     "output_type": "stream",
     "text": [
      "mean dari data tersebut adalah 3.0\n"
     ]
    }
   ],
   "source": [
    "#mencari mean pada python tanpa menggunakan library\n",
    "data = [1, 2, 3, 4, 5] \n",
    "mean = sum(data) / len(data) \n",
    "  \n",
    "print(\"mean dari data tersebut adalah \" + str(mean)) "
   ]
  },
  {
   "cell_type": "code",
   "execution_count": 2,
   "metadata": {},
   "outputs": [
    {
     "name": "stdout",
     "output_type": "stream",
     "text": [
      "mean dari data tersebut adalah  3\n"
     ]
    }
   ],
   "source": [
    "#mencari mean pada python menggunakan library\n",
    "import statistics as stat\n",
    "\n",
    "data=[1, 2, 3, 4, 5]\n",
    "\n",
    "print(\"mean dari data tersebut adalah \", stat.mean(data))"
   ]
  },
  {
   "cell_type": "code",
   "execution_count": 3,
   "metadata": {},
   "outputs": [
    {
     "name": "stdout",
     "output_type": "stream",
     "text": [
      "median dari data tersebut adalah 3\n"
     ]
    }
   ],
   "source": [
    "#mencari median pada python tanpa menggunakan library\n",
    "data = [1, 2, 3, 4, 5] \n",
    "length = len(data) \n",
    "data.sort() \n",
    "  \n",
    "if length % 2 == 0: \n",
    "    median1 = data[int(length / 2)] \n",
    "    median2 = data[int(length / 2) - 1] \n",
    "    median = (median1 + median2) / 2\n",
    "else: \n",
    "    median = data[int(length / 2)] \n",
    "print(\"median dari data tersebut adalah \" + str(median)) "
   ]
  },
  {
   "cell_type": "code",
   "execution_count": 4,
   "metadata": {},
   "outputs": [
    {
     "name": "stdout",
     "output_type": "stream",
     "text": [
      "median dari data tersebut adalah  3\n"
     ]
    }
   ],
   "source": [
    "#mencari median pada python menggunakan library\n",
    "import statistics as stat\n",
    "\n",
    "data=[1, 2, 3, 4, 5]\n",
    "\n",
    "print(\"median dari data tersebut adalah \", stat.median(data))"
   ]
  },
  {
   "cell_type": "code",
   "execution_count": 5,
   "metadata": {},
   "outputs": [
    {
     "name": "stdout",
     "output_type": "stream",
     "text": [
      "modus dari data tersebut adalah 5\n"
     ]
    }
   ],
   "source": [
    "#mencari modus pada python tanpa menggunakan library\n",
    "\n",
    "from collections import Counter \n",
    "  \n",
    "# list of elements to calculate mode \n",
    "n_num = [1, 2, 3, 4, 5, 5] \n",
    "n = len(n_num) \n",
    "  \n",
    "data = Counter(n_num) \n",
    "get_mode = dict(data) \n",
    "mode = [k for k, v in get_mode.items() if v == max(list(data.values()))] \n",
    "  \n",
    "if len(mode) == n: \n",
    "    get_mode = \"modus tidak ditemukan\"\n",
    "else: \n",
    "    get_mode = \"modus dari data tersebut adalah \" + ', '.join(map(str, mode)) \n",
    "      \n",
    "print(get_mode) "
   ]
  },
  {
   "cell_type": "code",
   "execution_count": 6,
   "metadata": {},
   "outputs": [
    {
     "name": "stdout",
     "output_type": "stream",
     "text": [
      "modus dari data tersebut adalah  5\n"
     ]
    }
   ],
   "source": [
    "#mencari modus pada python menggunakan library\n",
    "import statistics as stat\n",
    "\n",
    "data=[1, 2, 3, 4, 5, 5]\n",
    "\n",
    "print(\"modus dari data tersebut adalah \", stat.mode(data))"
   ]
  }
 ],
 "metadata": {
  "interpreter": {
   "hash": "08820d80d9da2e8b8362dd7eb175f13515edfba605b5089051618ffd8d1308cc"
  },
  "kernelspec": {
   "display_name": "Python 3.10.0 64-bit",
   "language": "python",
   "name": "python3"
  },
  "language_info": {
   "codemirror_mode": {
    "name": "ipython",
    "version": 3
   },
   "file_extension": ".py",
   "mimetype": "text/x-python",
   "name": "python",
   "nbconvert_exporter": "python",
   "pygments_lexer": "ipython3",
   "version": "3.10.0"
  },
  "orig_nbformat": 4
 },
 "nbformat": 4,
 "nbformat_minor": 2
}
